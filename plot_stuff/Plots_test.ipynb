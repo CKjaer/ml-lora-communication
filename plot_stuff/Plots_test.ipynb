{
 "cells": [
  {
   "cell_type": "code",
   "execution_count": 1,
   "metadata": {},
   "outputs": [],
   "source": [
    "import numpy as np\n",
    "import matplotlib.pyplot as plt\n",
    "import os\n",
    "from load_files import load_data\n",
    "import logging\n",
    "from tqdm import tqdm\n",
    "import time"
   ]
  },
  {
   "cell_type": "code",
   "execution_count": 2,
   "metadata": {},
   "outputs": [],
   "source": [
    "logfilename = \"test_log.log\"\n",
    "logger = logging.getLogger(__name__)\n",
    "logging.basicConfig(filename=logfilename, encoding='utf-8', level=logging.DEBUG)\n",
    "logger.info(\"Starting the program\")\n"
   ]
  },
  {
   "cell_type": "code",
   "execution_count": 3,
   "metadata": {},
   "outputs": [
    {
     "ename": "",
     "evalue": "",
     "output_type": "error",
     "traceback": [
      "\u001b[1;31mThe Kernel crashed while executing code in the current cell or a previous cell. \n",
      "\u001b[1;31mPlease review the code in the cell(s) to identify a possible cause of the failure. \n",
      "\u001b[1;31mClick <a href='https://aka.ms/vscodeJupyterKernelCrash'>here</a> for more info. \n",
      "\u001b[1;31mView Jupyter <a href='command:jupyter.viewOutput'>log</a> for further details."
     ]
    }
   ],
   "source": [
    "# loading the entire folder crashes the kernel. Out of memory.\n",
    "data = load_data(\"/home/clyholm/ml-lora-communication/plot_stuff/csv\", logger=logger)"
   ]
  },
  {
   "cell_type": "code",
   "execution_count": null,
   "metadata": {},
   "outputs": [],
   "source": [
    "# test print to check that symbol increases\n",
    "print(data['symbol'][0])"
   ]
  },
  {
   "cell_type": "code",
   "execution_count": 6,
   "metadata": {},
   "outputs": [],
   "source": [
    "def generate_plots(data, logger, spreading_factor: int, num_samples: int, directory: str):\n",
    "    \n",
    "    sample_idx = 0\n",
    "    start_time = time.time()\n",
    "    num_symbols = 2**spreading_factor\n",
    "    plt.switch_backend('agg')\n",
    "    \n",
    "    for i in tqdm(range(len(data)), desc=\"Generating plots\"):\n",
    "        freqs_idx = np.arange(0, len(data['freqs'][i]), 1)\n",
    "        \n",
    "        fig = plt.figure(figsize=(1,1), dpi=num_symbols)\n",
    "        ax = fig.add_subplot(111)\n",
    "        ax.set_ylim(0, 130)\n",
    "        plt.axis('off')\n",
    "        fig.set_facecolor('black')\n",
    "        plt.plot(freqs_idx, data['freqs'][i], color = 'white', linewidth=0.5)\n",
    "        plt.close(fig)\n",
    "        \n",
    "        sample_idx += 1\n",
    "        if sample_idx > num_samples:\n",
    "            sample_idx = 1\n",
    "        \n",
    "        plots_dir = os.path.join(directory, \"plots\")\n",
    "        os.makedirs(plots_dir, exist_ok=True)\n",
    "        #save images to folder\n",
    "        try:\n",
    "            fig.subplots_adjust(left=0, right=1, top=1, bottom=0)\n",
    "            fig.savefig(os.path.join(plots_dir, f\"snr_{data['snr'][i]}_symbol_{data['symbol'][i]}_{sample_idx}.png\"), dpi=num_symbols)\n",
    "        except Exception as e:\n",
    "            logger.error(f\"Error generating plot for sample {sample_idx} in file snr_{data['snr'][i]}_symbol_{data['symbol'][i]}. Error: {e}\")\n",
    "        \n",
    "        if (i + 1) % 5000 == 0:\n",
    "            logger.info(f\"Generated {i + 1} plots in {time.time() - start_time:.4f} seconds\") \n",
    "\n",
    "    logger.info(f\"Finished generating {len(data)} plots in {time.time() - start_time:.4f} seconds\")\n",
    "        "
   ]
  },
  {
   "cell_type": "code",
   "execution_count": null,
   "metadata": {},
   "outputs": [],
   "source": [
    "# test the function\n",
    "# THIS WILL FLOOD THE OUTPUT DIRECTORY WITH PLOTS\n",
    "generate_plots(data, logger, 7, 1000, \"/home/clyholm/ml-lora-communication/output\")"
   ]
  },
  {
   "cell_type": "code",
   "execution_count": null,
   "metadata": {},
   "outputs": [],
   "source": [
    "# find the limit for y axis\n",
    "# Flatten the lists in the 'freqs' column while keeping track of their original row and index\n",
    "flattened_freqs = [(value, row_idx, col_idx) \n",
    "                   for row_idx, sublist in enumerate(data['freqs']) \n",
    "                   for col_idx, value in enumerate(sublist)]\n",
    "\n",
    "# Find the maximum value and its location\n",
    "max_value, max_row_idx, max_col_idx = max(flattened_freqs, key=lambda x: x[0])\n",
    "\n",
    "print(f\"The absolute maximum value is: {max_value}\")\n",
    "print(f\"Location: Row {max_row_idx}, Index {max_col_idx}\")\n",
    "print(f\"Symbol: {data['symbol'][max_row_idx]}\")\n",
    "print(f\"SNR: {data['snr'][max_row_idx]}\")"
   ]
  },
  {
   "cell_type": "code",
   "execution_count": null,
   "metadata": {},
   "outputs": [],
   "source": [
    "# inspect plots with y axis constraints\n",
    "freqs_idx = np.arange(0, len(data['freqs'][max_row_idx]), 1)\n",
    "\n",
    "fig = plt.figure(figsize=(1,1), dpi=128)\n",
    "ax = fig.add_subplot(111)\n",
    "ax.set_ylim(0, 380)\n",
    "plt.plot(freqs_idx, data['freqs'][88449], linewidth=0.5)\n",
    "plt.show()\n",
    "\n",
    "# There is a big outlier in the -16 snr"
   ]
  }
 ],
 "metadata": {
  "kernelspec": {
   "display_name": "venv",
   "language": "python",
   "name": "python3"
  },
  "language_info": {
   "codemirror_mode": {
    "name": "ipython",
    "version": 3
   },
   "file_extension": ".py",
   "mimetype": "text/x-python",
   "name": "python",
   "nbconvert_exporter": "python",
   "pygments_lexer": "ipython3",
   "version": "3.10.12"
  }
 },
 "nbformat": 4,
 "nbformat_minor": 2
}
