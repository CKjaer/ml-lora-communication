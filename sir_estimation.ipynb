{
 "cells": [
  {
   "cell_type": "markdown",
   "metadata": {},
   "source": [
    "## METHODS of SIR Estimation    \n"
   ]
  },
  {
   "cell_type": "code",
   "execution_count": null,
   "metadata": {},
   "outputs": [],
   "source": [
    "import numpy as np\n",
    "import csv\n",
    "\n",
    "\n",
    "# The actual SIR values are -10 dB\n",
    "fft_data = np.genfromtxt('data.csv', delimiter=',', skip_header=1)\n",
    "\n",
    "# Locate the peak of symbol 1\n",
    "peak_index = np.argmax(fft_data[:,1])\n",
    "\n",
    "# Receiver noise floor estimate\n",
    "T = 298.16\n",
    "k = 1.38e-23 # Boltzmann constant\n",
    "BW = 250e3\n",
    "noise_floor = k * T * BW \n",
    "\n",
    "\n",
    "\n",
    "\n",
    "# Calculate the SIR\n",
    "with open(\"test.csv\") as fp:\n",
    "    reader = csv.reader(fp, delimiter=\",\", quotechar='\"')\n",
    "    # next(reader, None)  # skip the headers\n",
    "    data_read = [row for row in reader]\n",
    "\n",
    "\n",
    "\n",
    "\n"
   ]
  },
  {
   "cell_type": "code",
   "execution_count": null,
   "metadata": {
    "vscode": {
     "languageId": "plaintext"
    }
   },
   "outputs": [],
   "source": []
  }
 ],
 "metadata": {
  "language_info": {
   "name": "python"
  }
 },
 "nbformat": 4,
 "nbformat_minor": 2
}
