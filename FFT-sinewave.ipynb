{
 "cells": [
  {
   "cell_type": "code",
   "execution_count": 1,
   "metadata": {},
   "outputs": [],
   "source": [
    "import numpy as np\n",
    "import matplotlib.pyplot as plt\n",
    "from PIL import Image\n",
    "import cv2 as cv"
   ]
  },
  {
   "cell_type": "code",
   "execution_count": 15,
   "metadata": {},
   "outputs": [],
   "source": [
    "sampling_rate = 1000000\n",
    "sample_duration = 0.01\n",
    "time = np.linspace(0, sample_duration, int(sampling_rate * sample_duration))\n",
    "amplitude = 1\n",
    "\n",
    "# generate 1000 sine waves\n",
    "num_waves = 1000\n",
    "frequency = np.random.uniform(0, 100000, num_waves)\n",
    "sine_waves = [np.sin(2 * np.pi * f * time) for f in frequency]\n"
   ]
  },
  {
   "cell_type": "code",
   "execution_count": 20,
   "metadata": {},
   "outputs": [
    {
     "name": "stdout",
     "output_type": "stream",
     "text": [
      "Frequency: 45795.853817797004\n"
     ]
    },
    {
     "data": {
      "image/png": "[encoded data removed]",
      "text/plain": [
       "<Figure size 640x480 with 1 Axes>"
      ]
     },
     "metadata": {},
     "output_type": "display_data"
    }
   ],
   "source": [
    "def generate_fft_plot(input_signal, sampling_rate):\n",
    "    fft = np.fft.fft(input_signal)\n",
    "    fft_modulus = np.abs(fft)\n",
    "    freqs = np.fft.fftfreq(len(fft_modulus), 1/sampling_rate)\n",
    "\n",
    "    plt.figure()\n",
    "    plt.plot(freqs[:len(freqs)//2], fft_modulus[:len(freqs)//2])\n",
    "    plt.xlabel('Frequency (Hz)')\n",
    "    plt.ylabel('Magnitude')\n",
    "    plt.xlim(0, 100000)\n",
    "\n",
    "print(f\"Frequency: {frequency[1]}\")    \n",
    "generate_fft_plot(sine_waves[1], sampling_rate)"
   ]
  },
  {
   "cell_type": "code",
   "execution_count": 53,
   "metadata": {},
   "outputs": [],
   "source": [
    "# Open the saved image and process it\n",
    "img = Image.open(\"fft_plot.png\")\n",
    "img = img.convert(\"RGB\")  # Ensure the image is in RGB mode\n",
    "\n",
    "img_array = np.array(img)\n",
    "\n",
    "# Extract RGB channels\n",
    "# To crop the image, we slice the array on the rows and the colums\n",
    "red_channel = img_array[80:520, 135:890, 0]\n",
    "green_channel = img_array[80:520, 135:890, 1]\n",
    "blue_channel = img_array[80:520, 135:890, 2]\n",
    "    \n",
    "\n",
    "# Apply threshold to create a binary image where blue is dominant over red and green\n",
    "sensitivity = 70  # Threshold for blue dominance\n",
    "blue_dominance = (blue_channel > red_channel + sensitivity) & (blue_channel > green_channel + sensitivity)\n",
    "\n",
    "#Convert the boolean array to an image (black and white)\n",
    "binary_image = Image.fromarray((blue_dominance * 255).astype(np.uint8))  # Multiply by 255 to get full range of black and white\n",
    "\n",
    "# Save the binary image\n",
    "binary_image.save(\"binary_fft_plot.png\")\n",
    "\n",
    "# Optionally, show the binary image using PIL\n",
    "binary_image.show()"
   ]
  },
  {
   "cell_type": "code",
   "execution_count": 61,
   "metadata": {},
   "outputs": [],
   "source": [
    "# Open the saved image and process it\n",
    "\n",
    "img = Image.open(\"fft_plot.png\")\n",
    "img = img.convert(\"RGB\")  # Ensure the image is in RGB mode\n",
    "\n",
    "img_array = np.array(img)\n",
    "\n",
    "# Extract RGB channels\n",
    "# To crop the image, we slice the array on the rows and the colums\n",
    "red_channel = img_array[80:520, 135:890, 0]\n",
    "green_channel = img_array[80:520, 135:890, 1]\n",
    "blue_channel = img_array[80:520, 135:890, 2]\n",
    "    \n",
    "\n",
    "# Apply threshold to create a binary image where blue is dominant over red and green\n",
    "sensitivity = 70  # Threshold for blue dominance\n",
    "blue_dominance = (blue_channel > red_channel + sensitivity) & (blue_channel > green_channel + sensitivity)\n",
    "\n",
    "#Convert the boolean array to an image (black and white)\n",
    "binary_image = Image.fromarray((blue_dominance * 255).astype(np.uint8))  # Multiply by 255 to get full range of black and white\n",
    "\n",
    "# Save the binary image\n",
    "binary_image.save(\"binary_fft_plot.png\")\n",
    "\n",
    "# Optionally, show the binary image using PIL\n",
    "binary_image.show()"
   ]
  }
 ],
 "metadata": {
  "kernelspec": {
   "display_name": ".venv",
   "language": "python",
   "name": "python3"
  },
  "language_info": {
   "codemirror_mode": {
    "name": "ipython",
    "version": 3
   },
   "file_extension": ".py",
   "mimetype": "text/x-python",
   "name": "python",
   "nbconvert_exporter": "python",
   "pygments_lexer": "ipython3",
   "version": "3.10.12"
  }
 },
 "nbformat": 4,
 "nbformat_minor": 2
}
