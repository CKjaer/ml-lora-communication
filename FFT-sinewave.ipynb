{
 "cells": [
  {
   "cell_type": "code",
   "execution_count": 1,
   "metadata": {},
   "outputs": [],
   "source": [
    "import numpy as np\n",
    "import matplotlib.pyplot as plt\n",
    "from PIL import Image\n",
    "import cv2 as cv"
   ]
  },
  {
   "cell_type": "code",
   "execution_count": 15,
   "metadata": {},
   "outputs": [],
   "source": [
    "sampling_rate = 1000000\n",
    "sample_duration = 0.01\n",
    "time = np.linspace(0, sample_duration, int(sampling_rate * sample_duration))\n",
    "amplitude = 1\n",
    "\n",
    "# generate 1000 sine waves\n",
    "num_waves = 1000\n",
    "frequency = np.random.uniform(0, 100000, num_waves)\n",
    "sine_waves = [np.sin(2 * np.pi * f * time) for f in frequency]\n"
   ]
  },
  {
   "cell_type": "code",
   "execution_count": 32,
   "metadata": {},
   "outputs": [
    {
     "name": "stdout",
     "output_type": "stream",
     "text": [
      "Frequency: 45795.853817797004\n"
     ]
    },
    {
     "data": {
      "image/png": "[encoded data removed]",
      "text/plain": [
       "<Figure size 640x480 with 1 Axes>"
      ]
     },
     "metadata": {},
     "output_type": "display_data"
    }
   ],
   "source": [
    "def generate_fft_plot(input_signal, sampling_rate):\n",
    "    fft = np.fft.fft(input_signal)\n",
    "    fft_modulus = np.abs(fft)\n",
    "    freqs = np.fft.fftfreq(len(fft_modulus), 1/sampling_rate)\n",
    "\n",
    "    # plt.figure()\n",
    "    # plt.plot(freqs[:len(freqs)//2], fft_modulus[:len(freqs)//2], color = \"black\")\n",
    "    # plt.xlabel('Frequency (Hz)')\n",
    "    # plt.ylabel('Magnitude')\n",
    "    # plt.xlim(0, 100000)\n",
    "\n",
    "    fig= plt.figure()\n",
    "    plt.axis('off')\n",
    "    fig.set_facecolor('black')\n",
    "    plt.plot(freqs[:len(freqs)//2], fft_modulus[:len(freqs)//2], color = \"white\", antialiased=False, linewidth=1)\n",
    "    fig.canvas.draw()\n",
    "\n",
    "print(f\"Frequency: {frequency[1]}\")    \n",
    "generate_fft_plot(sine_waves[1], sampling_rate)"
   ]
  }
 ],
 "metadata": {
  "kernelspec": {
   "display_name": ".venv",
   "language": "python",
   "name": "python3"
  },
  "language_info": {
   "codemirror_mode": {
    "name": "ipython",
    "version": 3
   },
   "file_extension": ".py",
   "mimetype": "text/x-python",
   "name": "python",
   "nbconvert_exporter": "python",
   "pygments_lexer": "ipython3",
   "version": "3.10.12"
  }
 },
 "nbformat": 4,
 "nbformat_minor": 2
}
