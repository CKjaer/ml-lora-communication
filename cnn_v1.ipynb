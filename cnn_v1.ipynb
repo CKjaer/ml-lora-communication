{
 "cells": [
  {
   "cell_type": "code",
   "execution_count": 22,
   "metadata": {},
   "outputs": [],
   "source": [
    "import torch\n",
    "import torch.nn as nn\n",
    "import torch.optim as optim\n",
    "import torch.nn.functional as F\n",
    "import pandas as pd\n",
    "\n",
    "\n",
    "\n",
    "# Define the CNN architecture\n",
    "class LoRaCNN(nn.Module):\n",
    "    def __init__(self, M):\n",
    "        super(LoRaCNN, self).__init__()\n",
    "        \n",
    "        # Convolutional layers\n",
    "        self.conv1 = nn.Conv2d(in_channels=1, out_channels=M//4, kernel_size=4, stride=1, padding=2)\n",
    "        self.conv2 = nn.Conv2d(in_channels=M//4, out_channels=M//2, kernel_size=4, stride=1, padding=2)\n",
    "        \n",
    "        # Pooling layer\n",
    "        self.pool = nn.AvgPool2d(kernel_size=2, stride=2)\n",
    "        \n",
    "        # Fully connected layers\n",
    "        self.fc1 = nn.Linear(M//2 * (M//4) * (M//4), 4 * M)  \n",
    "        self.fc2 = nn.Linear(4 * M, 2 * M)\n",
    "        self.fc3 = nn.Linear(2 * M, M)\n",
    "        \n",
    "    def forward(self, x):\n",
    "        # Input shape is (batch_size, 1, M, M)\n",
    "        \n",
    "        # Convolutional layers\n",
    "        x = F.relu(self.conv1(x))  # Apply ReLU to conv1\n",
    "        x = self.pool(x)           # Apply average pooling\n",
    "        x = F.relu(self.conv2(x))  # Apply ReLU to conv2\n",
    "        x = self.pool(x)           # Apply average pooling\n",
    "        \n",
    "        # Flatten the output from conv layers\n",
    "        x = x.view(-1, self.num_flat_features(x))\n",
    "        \n",
    "        # Fully connected layers\n",
    "        x = F.relu(self.fc1(x))    # First fully connected layer\n",
    "        x = F.relu(self.fc2(x))    # Second fully connected layer\n",
    "        x = self.fc3(x)            # Output layer with no activation (softmax in loss)\n",
    "        \n",
    "        return x\n",
    "    \n",
    "    def num_flat_features(self, x):\n",
    "        size = x.size()[1:]  # All dimensions except the batch dimension\n",
    "        num_features = 1\n",
    "        for s in size:\n",
    "            num_features *= s\n",
    "        return num_features\n",
    "\n",
    "# Example parameters\n",
    "M = 128  # Number of possible values per symbol (2^SF for SF=7)\n",
    "\n",
    "# Create the CNN model\n",
    "model = LoRaCNN(M)\n",
    "\n",
    "# Example loss function and optimizer\n",
    "criterion = nn.CrossEntropyLoss()\n",
    "optimizer = optim.Adam(model.parameters(), lr=0.001)\n",
    "\n",
    "# Example training loop\n",
    "def train(model, train_loader, num_epochs):\n",
    "    model.train()\n",
    "    for epoch in range(num_epochs):\n",
    "        running_loss = 0.0\n",
    "        for i, data in enumerate(train_loader, 0):\n",
    "            inputs, labels = data\n",
    "            \n",
    "            # Zero the parameter gradients\n",
    "            optimizer.zero_grad()\n",
    "            \n",
    "            # Forward pass\n",
    "            outputs = model(inputs)\n",
    "            loss = criterion(outputs, labels)\n",
    "            \n",
    "            # Backward pass and optimize\n",
    "            loss.backward()\n",
    "            optimizer.step()\n",
    "            \n",
    "            # Print statistics\n",
    "            running_loss += loss.item()\n",
    "            if i % 100 == 99:  # Print every 100 mini-batches\n",
    "                print(f'Epoch [{epoch+1}], Step [{i+1}], Loss: {running_loss / 100:.4f}')\n",
    "                running_loss = 0.0\n",
    "\n",
    "# Example input size and dummy data for testing the model\n",
    "# Assuming inputs are MxM matrix and labels are the symbol class (0 to M-1)\n",
    "#batch_size = 32\n",
    "#inputs = torch.randn(batch_size, 1, M, M)  # Random inputs, batch_size x 1 x M x M\n",
    "#labels = torch.randint(0, M, (batch_size,))  # Random labels in range [0, M)\n",
    "\n",
    "# Convert inputs into a DataLoader for batch processing (dummy example)\n",
    "#from torch.utils.data import DataLoader, TensorDataset\n",
    "#train_data = TensorDataset(inputs, labels)\n",
    "#train_loader = DataLoader(train_data, batch_size=batch_size, shuffle=True)\n",
    "\n",
    "# Train the model (for demonstration purposes, only 2 epochs)\n",
    "#train(model, train_loader, num_epochs=2)\n",
    "\n",
    "# Save the trained model\n",
    "#torch.save(model.state_dict(), 'lora_cnn_model.pth')\n"
   ]
  },
  {
   "cell_type": "code",
   "execution_count": 64,
   "metadata": {},
   "outputs": [
    {
     "name": "stdout",
     "output_type": "stream",
     "text": [
      "Number of images in dataset: 6993\n",
      "Example image shape: torch.Size([1, 128, 128]), Label: 47\n"
     ]
    }
   ],
   "source": [
    "import os\n",
    "from PIL import Image\n",
    "from torchvision import transforms\n",
    "from torch.utils.data import Dataset, DataLoader\n",
    "from torch.utils.data import random_split\n",
    "import torch\n",
    "\n",
    "# Define a custom dataset\n",
    "class CustomImageDataset(Dataset):\n",
    "    def __init__(self, img_dir, specific_label=None, transform=None):\n",
    "        self.img_dir = img_dir\n",
    "        self.img_list = os.listdir(img_dir)\n",
    "        self.transform = transform\n",
    "        self.specific_label = specific_label \n",
    "\n",
    "        if specific_label is not None:\n",
    "            self.img_list = [img for img in self.img_list if float(img.split('_')[1]) == specific_label]\n",
    "\n",
    "\n",
    "    def __len__(self):\n",
    "        return len(self.img_list)\n",
    "\n",
    "    def __getitem__(self, idx):\n",
    "        # Get the image filename\n",
    "        img_name = self.img_list[idx]\n",
    "        img_path = os.path.join(self.img_dir, img_name)\n",
    "\n",
    "        # Extract the label from the filename (assuming filenames are like 'class_0_image1.png')\n",
    "        # Adjust this line if your filename format is different\n",
    "        label = int(img_name.split('_')[3])  # Extract label assuming the label is after 'class_'\n",
    "\n",
    "        # Load the image\n",
    "        image = Image.open(img_path).convert(\"L\")  # Convert to grayscale if necessary\n",
    "\n",
    "        # Apply transformations if provided\n",
    "        if self.transform:\n",
    "            image = self.transform(image)\n",
    "\n",
    "        # Convert the label to a tensor\n",
    "        label = torch.tensor(label, dtype=torch.long)\n",
    "\n",
    "        return image, label\n",
    "\n",
    "# Define transformations for the images\n",
    "transform = transforms.Compose([\n",
    "    transforms.Resize((128, 128)),  # Resize images to a fixed size\n",
    "    transforms.ToTensor(),  # Convert to tensor\n",
    "    transforms.Normalize(mean=[0.5], std=[0.5])  # Normalize with mean and std\n",
    "])\n",
    "\n",
    "# Set path to the folder containing the images\n",
    "img_dir = \"./first_data_set/plots/\"  # Update this path accordingly\n",
    "\n",
    "# Create the dataset and DataLoader\n",
    "dataset = CustomImageDataset(img_dir=img_dir, specific_label=-4.0, transform=transform)\n",
    "\n",
    "\n",
    "# Assuming dataset is your complete dataset\n",
    "dataset_size = len(dataset)\n",
    "train_size = int(0.8 * dataset_size)  # 80% for training\n",
    "test_size = dataset_size - train_size  # 20% for testing\n",
    "\n",
    "# Split the dataset into training and test sets\n",
    "train_dataset, test_dataset = random_split(dataset, [train_size, test_size])\n",
    "\n",
    "# Create DataLoaders for training and test sets\n",
    "train_loader = DataLoader(train_dataset, batch_size=32, shuffle=True)\n",
    "test_loader = DataLoader(test_dataset, batch_size=32, shuffle=False)\n",
    "\n",
    "# Check dataset and DataLoader\n",
    "print(f\"Number of images in dataset: {len(dataset)}\")\n",
    "image, label = dataset[0]\n",
    "print(f\"Example image shape: {image.shape}, Label: {label}\")\n",
    "\n"
   ]
  },
  {
   "cell_type": "code",
   "execution_count": 65,
   "metadata": {},
   "outputs": [
    {
     "name": "stdout",
     "output_type": "stream",
     "text": [
      "Epoch [1], Step [100], Loss: 0.2657\n",
      "Epoch [2], Step [100], Loss: 0.0000\n"
     ]
    }
   ],
   "source": [
    "M = 128  # Define the value according to your model requirements\n",
    "model = LoRaCNN(M)\n",
    "\n",
    "# Define a loss function and optimizer\n",
    "criterion = nn.CrossEntropyLoss()\n",
    "optimizer = optim.Adam(model.parameters(), lr=0.001)\n",
    "\n",
    "# Train the model using the train function defined previously\n",
    "train(model, train_loader, 2)"
   ]
  },
  {
   "cell_type": "code",
   "execution_count": 66,
   "metadata": {},
   "outputs": [
    {
     "name": "stdout",
     "output_type": "stream",
     "text": [
      "Validation/Test Loss: 0.0000\n",
      "Validation/Test Accuracy: 100.00%\n",
      "Symbol Error Rate (SER): 0.000000\n"
     ]
    },
    {
     "data": {
      "text/plain": [
       "0.0"
      ]
     },
     "execution_count": 66,
     "metadata": {},
     "output_type": "execute_result"
    }
   ],
   "source": [
    "def evaluate_and_calculate_ser(model, test_loader, criterion):\n",
    "    model.eval()  # Set model to evaluation mode\n",
    "    correct_predictions = 0\n",
    "    total_predictions = 0\n",
    "    total_loss = 0.0\n",
    "    incorrect_predictions = 0\n",
    "\n",
    "    with torch.no_grad():  # Disable gradient calculation for evaluation\n",
    "        for data in test_loader:\n",
    "            inputs, labels = data\n",
    "            outputs = model(inputs)\n",
    "            loss = criterion(outputs, labels)\n",
    "            total_loss += loss.item()\n",
    "            \n",
    "            # Get predicted labels\n",
    "            _, predicted = torch.max(outputs.data, 1)\n",
    "            \n",
    "            # Calculate number of correct and incorrect predictions\n",
    "            correct_predictions += (predicted == labels).sum().item()\n",
    "            incorrect_predictions += (predicted != labels).sum().item()\n",
    "            total_predictions += labels.size(0)\n",
    "\n",
    "    # Calculate accuracy\n",
    "    accuracy = 100 * correct_predictions / total_predictions\n",
    "    \n",
    "    # Calculate Symbol Error Rate (SER)\n",
    "    ser = incorrect_predictions / total_predictions\n",
    "\n",
    "    # Calculate average loss\n",
    "    average_loss = total_loss / len(test_loader)\n",
    "\n",
    "    print(f'Validation/Test Loss: {average_loss:.4f}')\n",
    "    print(f'Validation/Test Accuracy: {accuracy:.2f}%')\n",
    "    print(f'Symbol Error Rate (SER): {ser:.6f}')\n",
    "    return ser\n",
    "\n",
    "# Evaluate the model and calculate SER on the test set\n",
    "evaluate_and_calculate_ser(model, test_loader, criterion)\n"
   ]
  },
  {
   "cell_type": "code",
   "execution_count": 76,
   "metadata": {},
   "outputs": [
    {
     "data": {
      "image/png": "[encoded data removed]",
      "text/plain": [
       "<Figure size 1000x600 with 1 Axes>"
      ]
     },
     "metadata": {},
     "output_type": "display_data"
    }
   ],
   "source": [
    "import matplotlib.pyplot as plt\n",
    "\n",
    "specific_values = [i for i in range(-16, -2, 2)]\n",
    "symbol_error_rates = [0, 0.173, 0.088, 0.008, 0.004, 0, 0]\n",
    "\n",
    "\n",
    "\n",
    "plt.figure(figsize=(10, 6))\n",
    "plt.plot(specific_values, symbol_error_rates, marker='o', linestyle='-', color='b')\n",
    "plt.xlabel('SNR')\n",
    "plt.ylabel('Symbol Error Rate (SER)')\n",
    "plt.yscale('log')\n",
    "plt.ylim(1e-5, 1e0)\n",
    "plt.title('SNR vs Symbol Error Rate')\n",
    "plt.grid(True)\n",
    "plt.show()\n",
    "    \n",
    "\n"
   ]
  },
  {
   "cell_type": "code",
   "execution_count": 42,
   "metadata": {},
   "outputs": [
    {
     "data": {
      "text/plain": [
       "1.0"
      ]
     },
     "execution_count": 42,
     "metadata": {},
     "output_type": "execute_result"
    }
   ],
   "source": [
    "float(1)"
   ]
  },
  {
   "cell_type": "code",
   "execution_count": 68,
   "metadata": {},
   "outputs": [],
   "source": [
    "specific_values = [i for i in range(-16, -4, 2)]"
   ]
  },
  {
   "cell_type": "code",
   "execution_count": 69,
   "metadata": {},
   "outputs": [
    {
     "data": {
      "text/plain": [
       "[-16, -14, -12, -10, -8, -6]"
      ]
     },
     "execution_count": 69,
     "metadata": {},
     "output_type": "execute_result"
    }
   ],
   "source": [
    "specific_values"
   ]
  },
  {
   "cell_type": "code",
   "execution_count": null,
   "metadata": {},
   "outputs": [],
   "source": []
  }
 ],
 "metadata": {
  "kernelspec": {
   "display_name": "Python 3.11.5 ('base')",
   "language": "python",
   "name": "python3"
  },
  "language_info": {
   "codemirror_mode": {
    "name": "ipython",
    "version": 3
   },
   "file_extension": ".py",
   "mimetype": "text/x-python",
   "name": "python",
   "nbconvert_exporter": "python",
   "pygments_lexer": "ipython3",
   "version": "3.11.5"
  },
  "orig_nbformat": 4,
  "vscode": {
   "interpreter": {
    "hash": "40d3a090f54c6569ab1632332b64b2c03c39dcf918b08424e98f38b5ae0af88f"
   }
  }
 },
 "nbformat": 4,
 "nbformat_minor": 2
}
